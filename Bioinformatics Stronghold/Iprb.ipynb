{
 "cells": [
  {
   "cell_type": "code",
   "execution_count": null,
   "metadata": {
    "collapsed": true
   },
   "outputs": [],
   "source": [
    "\"\"\"\n",
    "Solution to a ROSALIND bioinformatics problem. \n",
    "Rosalind ID: endomain\n",
    "URL: http://rosalind.info/problems/bins\n",
    "\"\"\"\n",
    "f = open('rosalind_iprb', 'r')\n",
    "lines = f.readlines()\n",
    "f.close()\n",
    "\n",
    "values = lines[0].strip().split(' ')\n",
    "values = map(float,values)\n",
    "k = values[0]\n",
    "m = values[1]\n",
    "n = values[2]\n",
    "from scipy.special import comb\n",
    "numerator = comb(k,2) + 0.75*comb(m,2) + comb(k,1)*comb(m,1) + 0.5*comb(m,1)*comb(n,1) + comb(k,1)*comb(n,1)\n",
    "denominator = comb(k,2) + comb(m,2) + comb(n,2) + comb(k,1)*comb(m,1) + comb(m,1)*comb(n,1) + comb(k,1)*comb(n,1)\n",
    "print numerator/denominator"
   ]
  }
 ],
 "metadata": {
  "kernelspec": {
   "display_name": "Python 2",
   "language": "python",
   "name": "python2"
  },
  "language_info": {
   "codemirror_mode": {
    "name": "ipython",
    "version": 2
   },
   "file_extension": ".py",
   "mimetype": "text/x-python",
   "name": "python",
   "nbconvert_exporter": "python",
   "pygments_lexer": "ipython2",
   "version": "2.7.13"
  }
 },
 "nbformat": 4,
 "nbformat_minor": 2
}
