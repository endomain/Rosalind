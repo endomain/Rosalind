{
 "cells": [
  {
   "cell_type": "code",
   "execution_count": 7,
   "metadata": {
    "collapsed": false
   },
   "outputs": [],
   "source": [
    "\"\"\"\n",
    "Solution to a ROSALIND bioinformatics problem. \n",
    "Rosalind ID: endomain\n",
    "URL: http://rosalind.info/problems/bins\n",
    "\"\"\"\n",
    "import pandas as pd\n",
    "with open('rosalind_cons.txt', 'r') as f:\n",
    "    lines = f.read().splitlines()"
   ]
  },
  {
   "cell_type": "code",
   "execution_count": 8,
   "metadata": {
    "collapsed": false
   },
   "outputs": [],
   "source": [
    "seq = list()\n",
    "seqn = list()\n",
    "tseq = list()\n",
    "lines.append('>')\n",
    "for i in range(0,len(lines)):\n",
    "        if lines[i][0] == \">\":\n",
    "            seqn.append(lines[i][1:])\n",
    "            tseq.append(seq)\n",
    "            seq = list()\n",
    "        else:\n",
    "            seq = seq + list(lines[i])\n",
    "tseq = tseq[1:]\n",
    "seqn = seqn[:-1]\n",
    "tseq = pd.DataFrame(tseq)\n",
    "tseq.index = seqn"
   ]
  },
  {
   "cell_type": "code",
   "execution_count": 9,
   "metadata": {
    "collapsed": true
   },
   "outputs": [],
   "source": [
    "# Get final sequence\n",
    "res = ''\n",
    "for i in range(0,tseq.shape[1]):\n",
    "    a = pd.value_counts(tseq[i].values,sort=True).index[0]\n",
    "    res += a \n",
    "\n",
    "# get count array\n",
    "frame = pd.value_counts(tseq[0].values).reindex([\"A\",\"C\",\"G\",\"T\"])\n",
    "for i in range(1,tseq.shape[1]):\n",
    "    a = pd.value_counts(tseq[i].values).reindex([\"A\",\"C\",\"G\",\"T\"])\n",
    "    frame = pd.concat([frame,a],axis = 1)\n",
    "frame = frame.fillna(value=0)\n",
    "frame = frame.values.astype(int)\n",
    "\n",
    "aa = [\"A\",\"C\",\"G\",\"T\"]\n",
    "print res\n",
    "for j in range(0,4):\n",
    "    row = frame[j,:]\n",
    "    st = ''\n",
    "    for i in range(0,len(row)):\n",
    "        st = st + str(row[i]) + ' '\n",
    "    print aa[j] + \": \" + st"
   ]
  }
 ],
 "metadata": {
  "kernelspec": {
   "display_name": "Python 2",
   "language": "python",
   "name": "python2"
  },
  "language_info": {
   "codemirror_mode": {
    "name": "ipython",
    "version": 2
   },
   "file_extension": ".py",
   "mimetype": "text/x-python",
   "name": "python",
   "nbconvert_exporter": "python",
   "pygments_lexer": "ipython2",
   "version": "2.7.13"
  }
 },
 "nbformat": 4,
 "nbformat_minor": 2
}
