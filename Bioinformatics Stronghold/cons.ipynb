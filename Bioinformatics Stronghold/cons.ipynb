{
 "cells": [
  {
   "cell_type": "code",
   "execution_count": 7,
   "metadata": {
    "collapsed": false
   },
   "outputs": [],
   "source": [
    "\"\"\"\n",
    "Solution to a ROSALIND bioinformatics problem. \n",
    "Rosalind ID: endomain\n",
    "URL: http://rosalind.info/problems/bins\n",
    "\"\"\"\n",
    "import pandas as pd\n",
    "with open('rosalind_cons.txt', 'r') as f:\n",
    "    lines = f.read().splitlines()"
   ]
  },
  {
   "cell_type": "code",
   "execution_count": 8,
   "metadata": {
    "collapsed": false
   },
   "outputs": [],
   "source": [
    "seq = list()\n",
    "seqn = list()\n",
    "tseq = list()\n",
    "lines.append('>')\n",
    "for i in range(0,len(lines)):\n",
    "        if lines[i][0] == \">\":\n",
    "            seqn.append(lines[i][1:])\n",
    "            tseq.append(seq)\n",
    "            seq = list()\n",
    "        else:\n",
    "            seq = seq + list(lines[i])\n",
    "tseq = tseq[1:]\n",
    "seqn = seqn[:-1]\n",
    "tseq = pd.DataFrame(tseq)\n",
    "tseq.index = seqn"
   ]
  },
  {
   "cell_type": "code",
   "execution_count": 9,
   "metadata": {
    "collapsed": true
   },
   "outputs": [],
   "source": [
    "# Get final sequence\n",
    "res = ''\n",
    "for i in range(0,tseq.shape[1]):\n",
    "    a = pd.value_counts(tseq[i].values,sort=True).index[0]\n",
    "    res += a "
   ]
  },
  {
   "cell_type": "code",
   "execution_count": 10,
   "metadata": {
    "collapsed": false
   },
   "outputs": [],
   "source": [
    "# get count array\n",
    "frame = pd.value_counts(tseq[0].values).reindex([\"A\",\"C\",\"G\",\"T\"])\n",
    "for i in range(1,tseq.shape[1]):\n",
    "    a = pd.value_counts(tseq[i].values).reindex([\"A\",\"C\",\"G\",\"T\"])\n",
    "    frame = pd.concat([frame,a],axis = 1)\n",
    "frame = frame.fillna(value=0)\n",
    "frame = frame.values.astype(int)"
   ]
  },
  {
   "cell_type": "code",
   "execution_count": 11,
   "metadata": {
    "collapsed": false,
    "scrolled": false
   },
   "outputs": [
    {
     "name": "stdout",
     "output_type": "stream",
     "text": [
      "GCCTAGGGATGGTGCACGTTGATGCGCTGCCTGACTAAGGGGCCGGTAGTGGCTGGGCTTAAGAGGACCGCTTCTGAGCCCGGCCGCTTTTACGCCGCAAGGTGTGCCGGCGCTGCTAAAGGCCCTTCTTTTAAGGTACCAGAGAACGGGTTAGAGGGGGGCCGTTCGGTACCCATAGAGACGATGAAGGCCCGGGGGTGAAGATGGTGGTTGATAGTGTTCGGTAGAGCGCTGCATTATCCCGCGGTACTCGGTTGTGTCTTTGCCAGTGTCAGTTTGCGGTGTGGTCACTCGGGGGGTACTCCTGCTGCCGGCATCCGATTGTGATTCGGTGTGTCGATATTGGATGATTAAGGCGGCTTGTTAAGTTGCGGAAGGCTCCTGGTCAGGTCCGGCCTGGCAGCCCATCGTACGATGGCGAGATCTCTCCACGAGGGGGCCTGTTTTGACCCCCATCTGTCGTTAAGGAGGCTGCAGGTCCCTATCGACTATTAAAGGGCGCCTTCTAAAATTTATGACCTCTTATCTGGTACCGGGGACGCTGGGCGAGGAGTTGATCTTCAATGGGCGCGGCCGGCTAGCGTAGCTTGTTACGATTAAAGTGGGAGTGGGTACGTGTCTTTGCGGCGTGGGACCGAGGACTCGTTAATGTTATAGTAATTTAGCTATCGCCATCGGTGCGGCATACTGAGTGTGACGATACGGCACCTGTGCGCGTGGTTATTATATGGCGGCCCGGAAGCTGGCCCCGTGGCGCTGGGCTGCGCGCACTCGTCCAGGGTGAGATGCTCCTGCCGTGGGGCACTTGGCGTTTGCGATTCGGTCGCGAACACGGGGCCCGAGATAGTTCGGTGGTTGGCCGACGGTCTGTGGGCACTGATGTCATTACTGTCGAGGGCTAACTTGCTTTTCGGCCCGTTCGTCGTTGCGGCGTGGTTTCGTTTG\n",
      "A: 0 2 2 3 5 1 3 3 5 2 0 2 3 1 1 4 2 2 2 0 1 4 3 3 1 4 2 1 2 2 0 3 2 4 2 3 4 5 1 0 2 1 3 1 3 3 2 6 2 1 2 2 1 2 2 3 1 2 1 2 5 4 1 5 1 2 4 0 1 3 1 2 2 1 2 2 4 1 1 1 1 2 2 1 1 2 3 1 4 4 2 6 2 3 3 0 4 2 4 6 3 3 0 2 2 2 2 1 2 3 3 1 3 2 1 1 3 5 5 4 3 2 2 3 2 2 2 3 3 2 2 1 5 5 1 2 1 4 2 1 5 2 5 3 4 4 2 0 3 2 2 3 4 1 4 2 2 0 3 1 2 3 3 3 4 1 3 3 3 3 6 3 4 3 4 3 5 1 4 3 4 1 2 4 1 0 4 4 2 1 2 2 1 3 1 1 0 2 2 0 5 4 1 4 1 3 2 2 4 3 2 3 3 5 3 5 4 2 3 2 2 1 0 3 3 4 1 5 1 1 2 1 2 0 0 4 2 2 5 2 3 1 3 3 2 3 2 1 4 1 3 0 2 3 1 1 3 1 3 3 3 2 3 3 2 2 2 5 3 3 3 1 3 4 1 3 2 3 0 2 0 3 3 1 3 3 3 2 2 6 1 1 1 1 2 0 2 2 1 1 5 0 4 1 3 1 3 3 3 3 2 2 3 2 1 4 1 4 2 2 5 2 2 1 1 3 5 0 2 2 1 3 1 2 2 3 3 3 3 6 1 4 3 3 1 2 4 2 0 5 0 1 5 6 1 3 1 1 2 2 2 2 2 2 2 5 4 1 1 1 1 3 3 2 5 4 0 2 1 3 0 3 3 0 2 3 3 5 1 2 2 1 3 3 2 2 3 4 3 1 3 4 3 1 3 3 4 2 5 3 3 4 1 3 4 2 3 2 2 3 4 3 4 1 4 3 3 3 2 2 4 1 2 4 3 2 1 2 0 0 3 2 1 3 1 1 3 2 5 1 1 3 0 3 5 2 3 2 0 2 3 2 0 2 6 6 3 0 5 2 3 0 3 1 2 4 1 3 3 3 0 2 1 4 1 3 3 6 3 3 5 2 2 5 5 4 1 3 2 4 1 0 1 3 2 3 1 4 4 5 4 3 3 3 4 3 3 4 1 0 3 2 1 1 4 3 3 2 3 2 2 4 3 3 3 4 3 3 5 2 3 2 3 1 1 2 3 3 5 3 1 5 3 1 2 2 4 1 3 2 0 3 6 4 1 1 1 3 2 2 1 1 2 0 3 1 2 3 0 5 2 2 2 0 5 3 2 3 1 3 2 4 4 3 2 4 2 3 4 4 5 3 2 2 3 1 5 0 2 3 2 2 2 4 1 1 2 1 0 1 1 2 3 3 3 2 4 2 2 2 3 1 2 4 3 1 1 4 1 1 4 2 3 3 3 3 3 5 4 3 2 1 1 4 1 4 1 1 4 5 2 3 2 5 2 4 3 4 2 2 4 1 3 6 1 3 3 1 2 2 4 3 2 2 4 4 4 1 3 0 4 3 1 1 1 2 4 1 1 5 2 4 0 3 2 2 5 2 1 4 2 2 1 2 3 3 1 1 4 2 1 2 4 2 3 4 2 4 4 2 3 3 0 3 3 2 2 3 4 5 4 3 2 1 1 0 2 1 3 0 4 2 3 3 3 3 1 2 3 4 3 3 3 1 3 2 2 2 3 4 1 3 0 3 2 3 1 4 2 1 2 2 2 4 1 5 2 1 1 3 1 2 2 0 4 3 3 3 2 0 2 1 0 4 3 2 3 1 3 1 1 3 2 3 2 3 1 5 2 1 2 1 4 1 1 3 3 3 5 4 1 4 4 3 2 2 1 2 3 3 2 4 4 7 3 4 2 1 3 2 3 2 4 1 2 3 3 2 1 2 2 3 5 2 2 1 2 1 1 3 3 3 2 2 3 5 3 2 1 4 2 2 3 2 6 2 2 4 1 2 1 3 3 3 4 2 3 3 2 1 5 4 1 2 2 1 3 1 3 3 2 3 1 2 1 3 1 3 1 3 2 2 2 1 2 2 3 2 3 3 2 2 1 1 0 1 2 4 3 3 3 3 1 3 1 \n",
      "C: 4 4 4 3 1 4 1 2 1 2 3 2 0 1 4 2 4 3 3 4 3 3 2 2 6 2 4 2 2 4 6 1 1 3 4 2 3 1 2 2 3 2 5 4 1 2 1 1 3 2 3 0 5 1 1 2 3 5 1 2 2 3 3 2 3 2 2 4 4 1 4 1 2 4 0 2 3 1 4 5 4 2 2 4 5 3 4 2 1 1 3 1 4 2 4 6 1 6 3 0 2 3 3 1 1 3 5 5 2 3 3 2 4 3 2 6 2 0 1 3 2 2 6 5 4 3 3 3 2 2 2 4 3 3 2 2 2 2 4 7 3 2 0 0 1 3 4 3 2 1 3 3 1 3 2 1 2 2 0 3 3 4 3 3 1 3 6 2 1 2 2 5 4 4 0 0 2 3 1 2 2 5 2 3 1 3 2 3 2 4 5 5 4 1 2 3 3 3 2 3 1 1 3 3 2 2 3 2 1 1 2 2 3 1 3 2 1 1 2 3 3 6 1 3 2 2 2 1 3 5 2 6 1 2 4 3 3 1 3 2 4 4 5 3 5 1 1 2 2 4 2 4 3 3 2 1 1 0 1 3 5 3 1 2 3 5 6 1 2 0 3 3 4 3 2 2 3 3 2 4 2 1 0 2 1 1 2 1 4 1 6 2 5 2 1 2 1 0 2 2 2 4 1 6 5 1 2 4 2 2 4 4 1 3 5 2 1 4 4 3 2 3 2 1 3 3 2 3 3 4 2 3 4 2 1 0 2 4 1 2 2 3 2 0 1 2 1 2 2 1 1 2 2 1 2 3 4 3 3 5 2 1 1 1 1 1 0 3 2 0 2 3 2 2 2 3 3 3 6 2 5 5 2 3 3 2 5 0 3 1 3 7 4 2 2 4 3 1 2 1 3 3 2 5 3 4 3 3 5 3 1 1 4 2 2 3 1 3 5 2 2 2 3 3 4 2 4 3 4 4 2 4 2 1 1 3 4 1 4 4 4 2 3 1 1 4 0 3 0 4 5 4 4 4 1 2 4 2 4 1 3 3 4 1 1 1 3 2 2 3 2 6 1 2 4 2 2 2 2 4 4 4 0 2 1 3 2 2 5 1 3 3 3 4 3 2 0 2 1 4 2 5 4 2 3 3 4 1 2 2 3 2 1 2 3 3 2 1 4 4 3 5 2 1 2 1 3 1 2 1 2 0 3 4 1 1 1 2 2 6 2 4 1 1 3 3 3 1 1 1 0 2 2 2 3 2 3 3 4 1 3 5 1 3 4 3 4 1 4 3 6 3 4 5 3 2 2 3 3 2 4 4 2 1 2 0 5 2 2 1 3 1 2 4 3 2 1 1 1 2 1 3 2 3 1 4 1 1 3 1 3 3 1 2 5 3 1 1 4 5 1 3 2 0 5 1 1 4 3 2 3 3 1 3 4 6 2 1 2 2 0 4 2 3 0 0 2 2 3 1 3 4 3 2 1 1 3 1 1 1 3 0 3 2 0 4 2 1 1 6 0 5 3 2 2 4 2 3 3 2 5 1 2 4 2 1 3 5 0 3 2 3 2 3 3 3 2 5 1 2 1 2 4 0 2 4 3 4 5 2 2 2 4 4 0 3 2 2 0 3 3 2 2 3 1 1 3 3 1 1 2 4 3 2 4 4 4 1 0 0 2 2 4 2 2 3 4 4 3 6 1 3 2 3 3 1 5 2 0 0 1 3 2 2 3 1 4 2 5 1 4 1 5 0 2 4 5 2 2 3 2 3 2 3 2 3 3 2 5 1 4 5 1 4 5 5 2 2 3 3 1 3 4 3 3 3 3 1 1 5 3 3 2 3 1 4 2 3 3 2 5 3 0 3 6 0 4 2 2 3 4 2 4 1 2 2 3 4 4 3 2 1 1 1 3 3 3 3 3 7 1 2 0 1 3 3 2 2 3 4 4 1 2 5 0 1 2 4 2 1 2 1 3 2 4 3 3 3 3 1 2 2 3 5 0 2 3 3 5 2 3 2 3 2 2 0 3 3 5 1 2 1 4 1 3 3 4 2 2 2 2 4 2 3 5 3 5 1 3 3 5 3 3 5 2 3 1 2 4 1 1 4 3 3 1 3 0 0 3 3 1 2 2 2 1 \n",
      "G: 4 3 2 1 3 4 3 3 2 2 6 4 3 4 3 2 1 3 2 1 5 1 1 3 3 4 0 2 3 1 2 2 4 3 1 2 1 2 4 4 3 4 1 3 5 3 2 2 4 3 3 4 3 2 4 3 3 0 3 2 2 2 4 3 5 4 2 3 3 3 2 1 2 2 2 6 0 4 2 2 2 4 5 2 1 4 1 3 1 1 1 1 1 3 1 1 5 1 0 3 4 3 1 4 3 3 0 3 5 3 2 4 1 0 5 2 1 2 3 2 3 4 2 1 1 1 1 2 2 2 0 0 1 1 4 4 3 3 1 1 1 3 4 5 3 2 1 4 3 4 1 1 2 3 3 6 3 5 5 5 3 2 2 3 0 2 0 3 3 2 1 1 1 1 3 3 1 4 2 4 2 2 4 2 3 4 1 2 3 4 1 1 3 3 5 4 5 3 1 6 2 2 4 3 3 3 3 1 4 4 2 2 3 3 1 2 4 2 4 2 1 1 5 3 1 3 4 2 4 3 3 3 3 6 2 2 2 3 1 2 3 3 0 3 1 3 4 3 3 2 2 3 4 3 3 3 4 3 4 0 1 2 2 2 3 2 1 0 3 3 3 1 3 1 4 1 1 0 5 2 6 3 2 7 1 5 3 2 2 1 2 3 3 5 6 4 5 5 5 3 2 4 0 3 1 3 3 2 2 3 2 2 3 3 1 3 3 1 1 5 1 2 2 4 2 3 1 3 1 2 4 3 0 3 3 5 0 1 3 1 1 1 2 3 4 4 2 2 4 1 4 3 1 1 5 3 3 5 4 3 2 3 4 1 2 3 3 3 1 2 4 2 3 4 1 1 5 5 0 1 3 2 2 4 3 0 1 1 4 4 2 2 3 3 3 1 2 0 3 5 2 2 3 3 2 2 2 2 0 3 2 2 3 4 3 2 4 4 1 5 1 3 2 2 2 0 0 0 3 2 3 3 3 2 3 3 4 5 5 3 1 2 5 1 1 1 2 5 2 2 2 1 3 1 2 0 1 1 5 2 2 5 1 1 0 2 4 6 3 4 4 2 2 4 2 1 6 3 2 1 3 2 4 2 3 2 3 1 0 2 0 2 2 0 2 3 5 4 6 1 5 2 2 2 0 2 1 3 3 2 1 2 2 1 1 1 3 3 2 2 1 0 0 3 2 2 2 2 3 5 2 3 2 1 3 4 3 4 2 1 3 2 2 5 4 4 2 4 3 5 6 1 4 3 2 4 2 2 1 2 2 1 2 0 1 3 4 6 3 4 2 3 4 3 2 6 4 2 3 2 4 4 4 4 1 4 1 2 2 3 2 1 2 1 4 3 1 0 2 3 3 3 2 3 3 5 2 6 2 3 3 5 1 2 3 3 2 5 0 1 3 2 1 7 2 5 4 1 3 1 3 3 4 3 2 1 4 2 4 5 3 3 2 2 4 2 2 2 1 1 5 1 1 2 2 2 3 3 3 2 0 1 1 1 4 1 0 2 1 2 5 1 2 0 2 1 5 5 2 3 1 3 4 3 3 1 1 0 3 4 1 3 3 4 2 3 1 2 6 2 3 1 2 5 5 2 1 1 1 0 5 2 4 2 5 2 7 3 5 3 2 2 2 1 1 2 0 3 1 5 4 1 4 3 3 1 1 4 4 2 1 3 1 2 4 6 1 2 2 1 4 2 3 3 2 3 2 1 4 4 3 2 0 5 2 5 3 4 0 2 2 1 2 7 1 0 3 3 3 4 3 1 3 2 4 1 2 4 1 2 2 0 3 4 1 0 4 2 3 4 5 4 4 1 2 2 0 5 3 2 3 1 1 1 4 1 4 2 1 2 2 5 4 2 2 5 2 4 2 1 2 2 1 3 5 3 4 2 3 2 4 2 5 1 1 1 4 1 1 0 3 3 1 6 3 0 1 4 3 4 2 5 2 1 5 5 0 2 3 4 1 3 3 5 2 0 2 1 5 2 2 4 1 1 2 1 2 3 1 2 3 1 2 3 2 5 3 3 0 3 3 2 3 3 1 4 3 3 2 0 2 1 4 4 2 2 1 4 2 1 0 3 2 1 3 2 1 3 3 4 4 2 4 2 6 3 3 1 1 2 4 1 3 1 6 \n",
      "T: 2 1 2 3 1 1 3 2 2 4 1 2 4 4 2 2 3 2 3 5 1 2 4 2 0 0 4 5 3 3 2 4 3 0 3 3 2 2 3 4 2 3 1 2 1 2 5 1 1 4 2 4 1 5 3 2 3 3 5 4 1 1 2 0 1 2 2 3 2 3 3 6 4 3 6 0 3 4 3 2 3 2 1 3 3 1 2 4 4 4 4 2 3 2 2 3 0 1 3 1 1 1 6 3 4 2 3 1 1 1 2 3 2 5 2 1 4 3 1 1 2 2 0 1 3 4 4 2 3 4 6 5 1 1 3 2 4 1 3 1 1 3 1 2 2 1 3 3 2 3 4 3 3 3 1 1 3 3 2 1 2 1 2 1 5 4 1 2 3 3 1 1 1 2 3 4 2 2 3 1 2 2 2 1 5 3 3 1 3 1 2 2 2 3 2 2 2 2 5 1 2 3 2 0 4 2 2 5 1 2 4 3 1 1 3 1 1 5 1 3 4 2 4 1 4 1 3 2 2 1 3 0 4 2 4 1 3 4 1 4 0 2 2 1 2 3 3 4 1 3 3 3 1 1 4 5 2 6 2 4 1 3 4 3 2 1 1 4 2 4 1 5 0 2 3 4 4 4 3 2 2 3 5 0 5 1 2 5 2 2 1 4 1 2 1 4 2 3 2 4 1 2 5 0 1 5 2 1 3 2 2 2 3 2 3 1 5 1 3 0 2 3 4 4 4 1 2 4 4 2 3 1 5 3 4 2 5 2 3 1 6 2 3 4 4 2 3 4 4 3 5 4 2 2 2 1 2 1 1 0 4 4 3 6 5 1 3 3 6 7 3 2 2 2 2 2 2 0 3 4 2 0 3 3 2 5 1 4 2 3 3 0 0 2 3 3 2 5 2 3 2 1 2 1 2 1 1 3 0 1 4 3 2 1 1 3 2 1 2 0 3 2 1 4 0 5 3 4 1 2 1 2 3 3 3 2 1 2 1 3 2 4 1 5 7 4 5 0 3 3 2 2 3 2 2 6 2 5 1 5 2 0 5 6 3 1 0 2 0 1 1 2 4 3 2 3 1 2 3 2 3 2 5 2 5 2 2 1 2 4 2 3 3 1 0 1 4 1 1 1 2 3 3 3 5 2 4 2 1 1 2 3 4 4 2 3 2 2 3 4 3 3 7 5 2 4 2 5 2 2 4 3 2 2 3 1 3 1 1 1 2 2 4 3 2 1 2 2 1 1 3 2 1 4 3 2 1 4 2 5 5 1 1 3 4 3 1 0 1 1 1 3 0 2 2 1 2 2 4 1 0 0 2 5 2 3 2 3 5 3 3 4 2 2 1 1 6 6 3 1 1 1 4 2 3 0 2 3 3 3 2 0 6 2 1 3 5 3 6 3 5 3 4 0 0 2 1 3 2 5 1 3 3 0 1 2 3 3 3 2 3 1 3 2 3 5 3 1 2 5 0 4 5 2 6 3 3 5 2 2 5 6 4 2 4 1 5 3 6 0 1 3 2 2 5 2 0 1 3 3 0 3 2 1 1 4 2 4 4 3 3 1 4 2 4 2 3 2 2 1 4 3 4 2 1 2 1 3 3 4 1 4 1 2 2 2 0 4 1 2 4 4 2 4 5 3 5 0 4 2 1 2 3 2 0 3 3 2 2 3 3 2 3 5 3 1 3 3 2 3 1 3 2 1 2 3 2 5 3 2 3 2 5 2 2 2 1 2 2 3 3 5 3 0 5 3 1 1 3 2 3 4 3 1 3 1 3 3 3 4 3 3 4 2 0 2 1 3 2 3 2 2 2 2 2 3 4 3 3 2 3 3 5 3 3 2 3 0 4 5 1 1 2 4 1 2 1 1 1 2 3 2 1 3 1 3 2 2 0 2 2 3 0 1 3 2 1 5 3 1 3 3 5 2 2 4 4 2 3 0 2 1 1 2 3 3 6 3 4 2 4 3 2 1 1 2 2 4 1 3 4 2 3 2 2 5 3 0 3 4 3 4 2 2 2 3 1 1 3 5 0 3 2 4 4 2 0 4 3 5 4 2 3 1 2 2 3 2 4 3 3 2 3 3 3 3 5 3 0 2 3 2 2 4 3 3 5 5 3 2 2 4 4 4 2 \n"
     ]
    }
   ],
   "source": [
    "aa = [\"A\",\"C\",\"G\",\"T\"]\n",
    "print res\n",
    "for j in range(0,4):\n",
    "    row = frame[j,:]\n",
    "    st = ''\n",
    "    for i in range(0,len(row)):\n",
    "        st = st + str(row[i]) + ' '\n",
    "    print aa[j] + \": \" + st"
   ]
  },
  {
   "cell_type": "code",
   "execution_count": null,
   "metadata": {
    "collapsed": true
   },
   "outputs": [],
   "source": []
  }
 ],
 "metadata": {
  "kernelspec": {
   "display_name": "Python 2",
   "language": "python",
   "name": "python2"
  },
  "language_info": {
   "codemirror_mode": {
    "name": "ipython",
    "version": 2
   },
   "file_extension": ".py",
   "mimetype": "text/x-python",
   "name": "python",
   "nbconvert_exporter": "python",
   "pygments_lexer": "ipython2",
   "version": "2.7.13"
  }
 },
 "nbformat": 4,
 "nbformat_minor": 2
}
