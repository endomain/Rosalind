{
 "cells": [
  {
   "cell_type": "code",
   "execution_count": 113,
   "metadata": {
    "collapsed": false
   },
   "outputs": [],
   "source": [
    "\"\"\"\n",
    "Solution to a ROSALIND bioinformatics problem. \n",
    "Rosalind ID: endomain\n",
    "URL: http://rosalind.info/problems/bins\n",
    "\"\"\"\n",
    "import pandas as pd\n",
    "with open('rosalind_revp.txt', 'r') as f:\n",
    "    lines = f.read().splitlines()"
   ]
  },
  {
   "cell_type": "code",
   "execution_count": 114,
   "metadata": {
    "collapsed": false
   },
   "outputs": [],
   "source": [
    "line = lines[1:]\n",
    "seq = ''.join(line)\n",
    "seq = list(seq)\n",
    "frame = pd.DataFrame([[\"T\"],[\"G\"],[\"C\"],[\"A\"]])\n",
    "frame.index = [\"A\",\"C\",\"G\",\"T\"]\n",
    "frame.columns = [\"rev\"]\n",
    "for i in range(0,len(seq) - 3):\n",
    "    for j in range(4,13):\n",
    "        a = seq[i:i+j]\n",
    "        if len(a) == j:\n",
    "            b = list()\n",
    "            for k in range(0,len(a)):\n",
    "                b_ = frame.rev.values[frame.index == a[k]]\n",
    "                b_ = b_.item(0)\n",
    "                b.append(b_)\n",
    "            b_n = list(reversed(b))\n",
    "            if a == b_n:\n",
    "                print str(i+1) + ' ' + str(j)"
   ]
  }
 ],
 "metadata": {
  "kernelspec": {
   "display_name": "Python 2",
   "language": "python",
   "name": "python2"
  },
  "language_info": {
   "codemirror_mode": {
    "name": "ipython",
    "version": 2
   },
   "file_extension": ".py",
   "mimetype": "text/x-python",
   "name": "python",
   "nbconvert_exporter": "python",
   "pygments_lexer": "ipython2",
   "version": "2.7.13"
  }
 },
 "nbformat": 4,
 "nbformat_minor": 2
}
